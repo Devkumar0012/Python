{
 "cells": [
  {
   "cell_type": "markdown",
   "metadata": {},
   "source": [
    "# [<< Back](../01_Python_intro/Introducation.ipynb) :: [Next >>](../03_Syntax/Syntax.ipynb)"
   ]
  },
  {
   "cell_type": "markdown",
   "metadata": {},
   "source": [
    "# Python Getting Started\n",
    "## Python Install\n",
    "Many PCs and Macs will have python already installed.\n",
    "\n",
    "To check if you have python installed on a Windows PC, search in the start bar for Python or run the following on the Command Line (cmd.exe):\n",
    "\n",
    "`C:\\Users\\Your Name>python --version`\n",
    "\n",
    "To check if you have python installed on a Linux or Mac, then on linux open the command line or on Mac open the Terminal and type:\n",
    "\n",
    "`python --version`\n",
    "\n",
    "If you find that you do not have Python installed on your computer, then you can download it for free from the following website: <https://www.python.org/>\n",
    "\n",
    "## Python Quickstart\n",
    "\n",
    "Python is an interpreted programming language, this means that as a developer you write Python (.py) files in a text editor and then put those files into the python interpreter to be executed.\n",
    "\n",
    "The way to run a python file is like this on the command line:\n",
    "\n",
    "1. Open any text editor \n",
    "2. Write \"Hello, World!\" \n",
    "3. Save with name of your file `helloworld.py`.\n",
    "\n",
    "\n",
    "\n",
    "Let's write our first Python file, called helloworld.py, which can be done in any text editor.\n",
    "\n",
    "### [helloworld.py](../02_Python_Getting_Started/examples/helloworld.py)\n",
    "\n",
    "Simple as that. Save your file. Open your command line, navigate to the directory where you saved your file, and run:\n",
    "\n",
    "`C:\\Users\\Your Name>python helloworld.py`\n",
    "\n",
    "The output should read:\n",
    "\n",
    "`Hello, World!`\n",
    "\n",
    "Congratulations, you have written and executed your first Python program.\n",
    "\n",
    "## The Python Command Line\n",
    "To test a short amount of code in python sometimes it is quickest and easiest not to write the code in a file. This is made possible because Python can be run as a command line itself.\n",
    "\n",
    "Type the following on the Windows, Mac or Linux command line:\n",
    "\n",
    "`C:\\Users\\Your Name>python`\n",
    "\n",
    "Or, if the \"python\" command did not work, you can try \"py\":\n",
    "\n",
    "`C:\\Users\\Your Name>py`\n",
    "\n",
    "From there you can write any python, including our hello world example from earlier in the tutorial:\n",
    "\n",
    "```\n",
    "C:\\Users\\Your Name>python\n",
    "Python 3.6.4 (v3.6.4:d48eceb, Dec 19 2017, 06:04:45) [MSC v.1900 32 bit (Intel)] on win32\n",
    "Type \"help\", \"copyright\", \"credits\" or \"license\" for more information.\n",
    ">>> print(\"Hello, World!\")\n",
    "```\n",
    "Which will write \"Hello, World!\" in the command line:\n",
    "\n",
    "```\n",
    "C:\\Users\\Your Name>python\n",
    "Python 3.6.4 (v3.6.4:d48eceb, Dec 19 2017, 06:04:45) [MSC v.1900 32 bit (Intel)] on win32\n",
    "Type \"help\", \"copyright\", \"credits\" or \"license\" for more information.\n",
    ">>> print(\"Hello, World!\")\n",
    "Hello, World!\n",
    "```\n",
    "\n",
    "Whenever you are done in the python command line, you can simply type the following to quit the python command line interface:\n",
    "\n",
    "`exit()`"
   ]
  },
  {
   "cell_type": "markdown",
   "metadata": {},
   "source": [
    "# [<< Back](../01_Python_intro/Introducation.ipynb) :: [Next >>](../03_Syntax/Syntax.ipynb)"
   ]
  }
 ],
 "metadata": {
  "kernelspec": {
   "display_name": "Python 3",
   "language": "python",
   "name": "python3"
  },
  "language_info": {
   "name": "python",
   "version": "3.11.5"
  }
 },
 "nbformat": 4,
 "nbformat_minor": 2
}
